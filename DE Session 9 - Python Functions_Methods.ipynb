{
 "cells": [
  {
   "cell_type": "markdown",
   "metadata": {},
   "source": [
    "# Python Functions\n",
    "\n",
    "\n",
    "## Learning Objectives:\n",
    "By the end of this session, you should be able to:\n",
    "* Create basic Python functions;\n",
    "* Call and use a python function;\n",
    "* Learn how to define lambda functions;\n",
    "* Build and code lambda functions; and\n",
    "* Apply lamda functions to iterable sequences using the `map` and `filter` functions.\n",
    "\n",
    "## Outline\n",
    "In this train we will:\n",
    "* Python functions.\n",
    "* Breakdown the different aspects of Python Functions.\n",
    "* Introduction to lambda functions.\n",
    "* Mapping.\n",
    "* Filtering."
   ]
  },
  {
   "cell_type": "markdown",
   "metadata": {},
   "source": [
    "## Python Functions\n",
    "\n",
    "A function is a block of organised, reusable code that is used to perform an action. \n",
    "\n",
    "![alt_text](https://github.com/Explore-AI/Public-Data/blob/master/function_components.png?raw=true \"Function Components\")\n",
    "\n",
    "The image above points out all the components of a function in Python. \n",
    "\n",
    "### def\n",
    "\n",
    "We can define a function using the `def` keyword. This `def` keyword is then followed by a name for the function and two brackets (we'll get back to this later). It is important to note that everything inside the function must be indented by one tab deeper than `def`."
   ]
  },
  {
   "cell_type": "code",
   "execution_count": 11,
   "metadata": {
    "collapsed": true
   },
   "outputs": [],
   "source": [
    "def name_of_your_function(a, b, c):\n",
    "    some_result = do_something_with(a and b and c)\n",
    "    return some_result"
   ]
  },
  {
   "cell_type": "markdown",
   "metadata": {},
   "source": [
    "Here is a simple example."
   ]
  },
  {
   "cell_type": "code",
   "execution_count": 1,
   "metadata": {},
   "outputs": [],
   "source": [
    "def monthly_expenses(rent, food):\n",
    "    total_expenses = rent + food\n",
    "    return total_expenses"
   ]
  },
  {
   "cell_type": "markdown",
   "metadata": {},
   "source": [
    "Now lets try out the function we have created. We can run this function by writing the name of the function, followed by arguments we actually want to consider."
   ]
  },
  {
   "cell_type": "code",
   "execution_count": null,
   "metadata": {},
   "outputs": [],
   "source": [
    "monthly_expenses(50000, 20000)"
   ]
  },
  {
   "cell_type": "markdown",
   "metadata": {},
   "source": [
    "In the above example we specify the arguments for rent and food within the function to generate the actual total expenses."
   ]
  },
  {
   "cell_type": "markdown",
   "metadata": {},
   "source": [
    "### return\n",
    "\n",
    "After defining a function, we would want to **return** something from the function. It's useful (at least at the start) to think of **return** as the function passing something back to whoever ran it."
   ]
  },
  {
   "cell_type": "code",
   "execution_count": 13,
   "metadata": {},
   "outputs": [],
   "source": [
    "def return_something():\n",
    "    return 'SoMeThInG'"
   ]
  },
  {
   "cell_type": "code",
   "execution_count": 14,
   "metadata": {},
   "outputs": [
    {
     "data": {
      "text/plain": [
       "'SoMeThInG'"
      ]
     },
     "execution_count": 14,
     "metadata": {},
     "output_type": "execute_result"
    }
   ],
   "source": [
    "return_something()"
   ]
  },
  {
   "cell_type": "markdown",
   "metadata": {},
   "source": [
    "We notice ``return_something`` returns a string. This is different from `print_something` which won't give us any result **out**, but merely *print it*:"
   ]
  },
  {
   "cell_type": "code",
   "execution_count": 11,
   "metadata": {},
   "outputs": [],
   "source": [
    "def print_something():\n",
    "    print ('SoMeThInG')"
   ]
  },
  {
   "cell_type": "code",
   "execution_count": 12,
   "metadata": {},
   "outputs": [
    {
     "name": "stdout",
     "output_type": "stream",
     "text": [
      "SoMeThInG\n"
     ]
    }
   ],
   "source": [
    "print_something()"
   ]
  },
  {
   "cell_type": "markdown",
   "metadata": {},
   "source": [
    "`return` is used to exit a function and optionally return a value. When a function returns a value, it can be used by other parts of the code for further calculations, comparisons, or operations. This makes the code more modular, reusable, and easier to maintain, it also allows the value to be stored in a variable, and passed as an argument to another function."
   ]
  },
  {
   "cell_type": "code",
   "execution_count": 19,
   "metadata": {},
   "outputs": [],
   "source": [
    "string = return_something()"
   ]
  },
  {
   "cell_type": "code",
   "execution_count": 20,
   "metadata": {},
   "outputs": [
    {
     "name": "stdout",
     "output_type": "stream",
     "text": [
      "SoMeThInG\n"
     ]
    }
   ],
   "source": [
    "print(string)"
   ]
  },
  {
   "cell_type": "markdown",
   "metadata": {},
   "source": [
    "### Arguments \n",
    "\n",
    "Let's say we want to write a function that returns the result of the future value equation:\n",
    "\n",
    "$(1 + i)^n$\n",
    "\n",
    "where $i$, and $n$ are both numbers. We can pass in the values of i and n into the function, by defining it as follows."
   ]
  },
  {
   "cell_type": "code",
   "execution_count": 5,
   "metadata": {},
   "outputs": [
    {
     "name": "stdout",
     "output_type": "stream",
     "text": [
      "ok\n"
     ]
    }
   ],
   "source": [
    "def future_value(i, n):\n",
    "    result = (1 + i)**n\n",
    "    return result\n",
    "nums = [1]\n",
    "if len(nums):\n",
    "    print(\"ok\")\n",
    "else:\n",
    "    print(\"something\")"
   ]
  },
  {
   "cell_type": "markdown",
   "metadata": {},
   "source": [
    "We can then call our function with any values of i and n."
   ]
  },
  {
   "cell_type": "code",
   "execution_count": null,
   "metadata": {},
   "outputs": [],
   "source": [
    "future_value(0.05, 20)"
   ]
  },
  {
   "cell_type": "markdown",
   "metadata": {},
   "source": [
    "The `i` and the `n` inside `equation(i, n)` are called **arguments** to the function. Function arguments allow us to make generic functions that can be used with infinitely many variations. "
   ]
  },
  {
   "cell_type": "code",
   "execution_count": null,
   "metadata": {},
   "outputs": [],
   "source": [
    "future_value(0.1, 20)"
   ]
  },
  {
   "cell_type": "code",
   "execution_count": null,
   "metadata": {},
   "outputs": [],
   "source": [
    "future_value(0.15, 20)"
   ]
  },
  {
   "cell_type": "markdown",
   "metadata": {},
   "source": [
    "As we have seen in the earlier examples, it is not mandatory that a function have arguments, a function can have no argument but still have different outputs on each run, for instance we can make a function that can tell time."
   ]
  },
  {
   "cell_type": "code",
   "execution_count": 21,
   "metadata": {},
   "outputs": [],
   "source": [
    "import datetime\n",
    "\n",
    "def tell_time():\n",
    "    now = datetime.datetime.now()\n",
    "    current_time = now.strftime(\"%H:%M:%S\")\n",
    "    return (\"The current time is:\", current_time)\n"
   ]
  },
  {
   "cell_type": "code",
   "execution_count": null,
   "metadata": {},
   "outputs": [],
   "source": [
    "tell_time()"
   ]
  },
  {
   "cell_type": "markdown",
   "metadata": {},
   "source": [
    "## Scope of Variables\n",
    "\n",
    "Variable scope refers to how accessible a variable is to different parts of the program. The scope of a variable can be **local** or **global**, we illustrate the difference in the example below."
   ]
  },
  {
   "cell_type": "code",
   "execution_count": 12,
   "metadata": {},
   "outputs": [
    {
     "name": "stdout",
     "output_type": "stream",
     "text": [
      "Inside function, x = 2\n",
      "Inside function, y = 10\n",
      "Outside function, y = 10\n",
      "Outside function, x = 3\n"
     ]
    }
   ],
   "source": [
    "y = 10\n",
    "def my_function():\n",
    "    x = 2\n",
    "    print(\"Inside function, x =\",x) \n",
    "    print(\"Inside function, y =\",y) \n",
    "    return \n",
    "x = 3\n",
    "my_function()\n",
    "print(\"Outside function, y =\",y)\n",
    "print(\"Outside function, x =\",x)\n"
   ]
  },
  {
   "cell_type": "markdown",
   "metadata": {},
   "source": [
    "**Local variables** only exist within a context, in the above example, this refers to the body of the function. Furthermore, they can only be accessed within this context. On the other hand, **global variables** can be accessed from anywhere in the code. ```x``` is a local variable and only exists within ```my_function``` and attempting to access if outside the function, results in an error. ```y``` however, is a global variable and can be accessed both inside and outside of the function.\n",
    "\n",
    "To declare global variables within a context, we can use the ```global``` keyword as follows:"
   ]
  },
  {
   "cell_type": "code",
   "execution_count": 23,
   "metadata": {},
   "outputs": [
    {
     "name": "stdout",
     "output_type": "stream",
     "text": [
      "Inside function, x = 3\n",
      "Inside function, y = 9\n",
      "Outside function, y = 9\n",
      "Outside function, x = 3\n"
     ]
    }
   ],
   "source": [
    "y = 9\n",
    "def my_other_function():\n",
    "    global x\n",
    "    x = 3\n",
    "    print(\"Inside function, x =\",x) \n",
    "    print(\"Inside function, y =\",y) \n",
    "    \n",
    "    return \n",
    "\n",
    "my_other_function()\n",
    "print(\"Outside function, y =\",y)\n",
    "print(\"Outside function, x =\",x)"
   ]
  },
  {
   "cell_type": "markdown",
   "metadata": {},
   "source": [
    "## Lambda Functions\n",
    "\n",
    "Lambda functions, sometimes called Lambda expressions, are small, anonymous functions that can be expressed in a single line. Unlike standard python functions which are defined using the `def` keyword, a function name, a function body, and a `return` statement, lambda functions are defined using:\n",
    "\n",
    "* The `lambda` keyword\n",
    "* The function expression\n",
    "* The function arguments\n",
    "\n",
    "<br>\n",
    "\n",
    "Lambda functions make it easier to create quick function to improve code readability. Imagine creating a set of small functions to be called within another function; lambda functions allow a user to create these smaller functions in a single line without having to make a separate set of functions to be called.\n",
    "\n",
    "This syntax is given below:\n",
    "\n",
    "    lambda arguments : expression\n",
    " \n",
    "A normal function for doubling the input (i.e. multiplying by 2) would look like this:"
   ]
  },
  {
   "cell_type": "code",
   "execution_count": null,
   "metadata": {},
   "outputs": [],
   "source": [
    "def double (x): # Classic function to multiply an input by 2\n",
    "    return x*2"
   ]
  },
  {
   "cell_type": "markdown",
   "metadata": {},
   "source": [
    "To achieve the same result with a lambda function:"
   ]
  },
  {
   "cell_type": "code",
   "execution_count": 25,
   "metadata": {},
   "outputs": [],
   "source": [
    "# We assign this function to the variable 'd'\n",
    "doub = lambda x: x*2"
   ]
  },
  {
   "cell_type": "markdown",
   "metadata": {},
   "source": [
    "Let us look at another example of a lambda function with multiple arguments and strings."
   ]
  },
  {
   "cell_type": "code",
   "execution_count": 39,
   "metadata": {},
   "outputs": [],
   "source": [
    "string_length = lambda a, b: 'Sum of ' + str(a) + ' and ' + str(b) + ' is ' + str(a+b)"
   ]
  },
  {
   "cell_type": "markdown",
   "metadata": {},
   "source": [
    "## Mapping\n",
    "\n",
    "We can apply our lambda function to every element in an iterable sequence by using the in-built ```map``` function provided by Python.\n",
    "\n",
    "A full review around the syntax and use of the map function in Python can be found [here](https://www.w3schools.com/python/ref_func_map.asp), with some example code given below:\n",
    "\n",
    "```python\n",
    "    map (lambda v1: expression, iterable-sequences) \n",
    "```\n",
    "\n",
    "Let's look for an example"
   ]
  },
  {
   "cell_type": "code",
   "execution_count": null,
   "metadata": {},
   "outputs": [],
   "source": [
    "numbers = [2,3,4,5]\n",
    "\n",
    "list(map(lambda a: a**2, numbers)) # We are mapping the lambda function to iterate over the list `numbers`"
   ]
  },
  {
   "cell_type": "markdown",
   "metadata": {},
   "source": [
    "Remember, we must cast the result as a \"list\" to return a list of elements as the output. Try running the above cell without the \"list( )\" function to see what happens."
   ]
  },
  {
   "cell_type": "markdown",
   "metadata": {},
   "source": [
    "## Filtering\n",
    "\n",
    "Unlike the `map` function which applies a lmbda function to all elements in a list, the `filter` function is used to select particular elements (i.e. meeting some condition) from a sequence of elements. This sequence can be any iterator like lists, sets, tuples, etc. The `filter` function can be applied to `lambda` functions as follows:\n",
    "\n",
    "\n",
    "```python\n",
    "    filter (lambda parameter: expression, iterable-sequence)\n",
    "```\n",
    "\n",
    "Further documentation around the `filter` function can be found [here](https://www.programiz.com/python-programming/methods/built-in/filter)\n",
    "\n",
    "Let's look at an example"
   ]
  },
  {
   "cell_type": "code",
   "execution_count": null,
   "metadata": {},
   "outputs": [],
   "source": [
    "sequences = [10,2,8,7,5,4,3,11,0, 1]\n",
    "\n",
    "filtered_result = filter(lambda x: x > 4, sequences) # Filter takes an argument/function and an iteratable/sequence; in this case, the lambda acts as the filtering argument \n",
    "\n",
    "print(list(filtered_result))"
   ]
  },
  {
   "cell_type": "markdown",
   "metadata": {},
   "source": [
    "## Exercises\n",
    "### Exercise 1: Interest rates\n",
    "\n",
    "You just turned 20 and you want to buy a new pair of shoes to wear at your party. The shoes cost R1000. \n",
    "You're broke right now, but you know that in a year's time - when you turn 21 - you will get a lot of money from your relatives for your 21st birthday.\n",
    "\n",
    "FedBank is willing to lend you R1000, at 20% interest per year.\n",
    "\n",
    "Assuming that you take the loan - how much will you have to pay back in one year?\n",
    "\n",
    "***\n",
    "Loan summary:\n",
    "\n",
    "*   $PV$:     **R1000**\n",
    "*   $n$:      **1 year**\n",
    "*   $i$:      **20% interest** per annum, compounded annually\n",
    "\n",
    "Given a present value loan amount, PV, the formula for a future repayment (FV) is given by:\n",
    "\n",
    "\n",
    "\\begin{equation}\n",
    "FV = PV(1 + i)^n\n",
    "\\end{equation}\n",
    "\n",
    "\n",
    "***\n",
    "\n",
    "In Python we'd calculate this value as follows:"
   ]
  },
  {
   "cell_type": "code",
   "execution_count": 46,
   "metadata": {},
   "outputs": [],
   "source": [
    "# Present Value of the Loan amount:\n",
    "PV = 1000\n",
    "\n",
    "# Interest rate, i:\n",
    "i = 20 / 100\n",
    "\n",
    "# Term in years, n:\n",
    "n = 1\n",
    "\n",
    "#Calculate the Future Value, FV:\n"
   ]
  },
  {
   "cell_type": "markdown",
   "metadata": {},
   "source": [
    "So, if you decide to go ahead with the purchase, you'll need to pay an extra R200 to FedBank after 1 year.\n",
    "\n",
    "### Exercise 2: Future Value Formula\n",
    "\n",
    "Now, perform the exact same calculation, just using a function! Create a function called `future_value`, that takes the following arguments: present value $PV$, interest rate $i$, and a term $n$, and returns the future repayment value ($FV$) of that loan. "
   ]
  },
  {
   "cell_type": "code",
   "execution_count": null,
   "metadata": {},
   "outputs": [],
   "source": [
    "def future_value_of(PV, i, n):\n",
    "    # YOUR CODE HERE:\n",
    "    "
   ]
  },
  {
   "cell_type": "markdown",
   "metadata": {},
   "source": [
    "Your code should give the following results:\n",
    "\n",
    "\n",
    "*   `future_value(100, 0.1, 20) = 672.7499949325611`\n",
    "*   `future_value(500, 0.15, 10) = 2022.7788678539534`\n",
    "\n"
   ]
  },
  {
   "cell_type": "markdown",
   "metadata": {},
   "source": [
    "### Exercise 3\n",
    "\n",
    "For the function below, create a lambda function which returns the $y^{th}$ root of a number $x$ .\n",
    "\n",
    "```python\n",
    "def root(x,y):\n",
    "    return x**(1/y)\n",
    "```"
   ]
  },
  {
   "cell_type": "code",
   "execution_count": null,
   "metadata": {},
   "outputs": [],
   "source": [
    "#Your code here"
   ]
  },
  {
   "cell_type": "markdown",
   "metadata": {},
   "source": [
    "### Exercise 4\n",
    "\n",
    "Use the ```filter()``` function to output a ```list``` of intergers that are greater than 9 from the given list."
   ]
  },
  {
   "cell_type": "code",
   "execution_count": null,
   "metadata": {},
   "outputs": [],
   "source": [
    "list1 = [2, 6, 8, 10, 11, 4, 12, 7, 13, 17, 0, 3, 21]\n",
    "\n",
    "#Your code here:"
   ]
  },
  {
   "cell_type": "markdown",
   "metadata": {},
   "source": [
    "### Exercise 5\n",
    "\n",
    "Create a lambda function named `sort` to sort a list of numbers in an ascending order."
   ]
  },
  {
   "cell_type": "code",
   "execution_count": null,
   "metadata": {},
   "outputs": [],
   "source": [
    "# your code here"
   ]
  },
  {
   "cell_type": "markdown",
   "metadata": {},
   "source": [
    "\n",
    "## Appendix\n",
    "\n",
    "- [Functions](https://www.w3schools.com/python/python_functions.asp)\n",
    "* [Real python - A comprehensive guide to lambda functions and functional programming](https://realpython.com/python-lambda/)\n",
    "* [Guru99 - Exploring lamda functions](https://www.guru99.com/python-lambda-function.html)\n",
    "* [w3schools - Practical examples of lambda syntax](https://www.w3schools.com/python/python_lambda.asp)\n"
   ]
  }
 ],
 "metadata": {
  "kernelspec": {
   "display_name": "Python 3 (ipykernel)",
   "language": "python",
   "name": "python3"
  },
  "language_info": {
   "codemirror_mode": {
    "name": "ipython",
    "version": 3
   },
   "file_extension": ".py",
   "mimetype": "text/x-python",
   "name": "python",
   "nbconvert_exporter": "python",
   "pygments_lexer": "ipython3",
   "version": "3.9.7"
  }
 },
 "nbformat": 4,
 "nbformat_minor": 2
}
